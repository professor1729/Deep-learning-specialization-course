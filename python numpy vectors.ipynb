{
 "cells": [
  {
   "cell_type": "code",
   "execution_count": 1,
   "id": "964a0378-bd5a-4dbc-8504-c5ff44772790",
   "metadata": {},
   "outputs": [],
   "source": [
    "import numpy as np\n",
    "a = np.random.rand(5)"
   ]
  },
  {
   "cell_type": "code",
   "execution_count": 2,
   "id": "b0274010-7c22-4d79-88d1-20b93cff70ad",
   "metadata": {},
   "outputs": [
    {
     "name": "stdout",
     "output_type": "stream",
     "text": [
      "[0.36896823 0.00831768 0.27120162 0.06732635 0.33615966]\n"
     ]
    }
   ],
   "source": [
    "print(a)"
   ]
  },
  {
   "cell_type": "code",
   "execution_count": 3,
   "id": "e1332598-cac1-48b6-a8de-8ba36bddefad",
   "metadata": {},
   "outputs": [
    {
     "name": "stdout",
     "output_type": "stream",
     "text": [
      "[0.36896823 0.00831768 0.27120162 0.06732635 0.33615966]\n"
     ]
    }
   ],
   "source": [
    "print(a.T)"
   ]
  },
  {
   "cell_type": "code",
   "execution_count": 4,
   "id": "1b2089ed-6a3d-4a27-af11-5f62215a8953",
   "metadata": {},
   "outputs": [],
   "source": [
    "dot_product = np.dot(a , a.T)"
   ]
  },
  {
   "cell_type": "code",
   "execution_count": 5,
   "id": "a4f294b8-e662-41f2-b07a-9bd12563885c",
   "metadata": {},
   "outputs": [
    {
     "name": "stdout",
     "output_type": "stream",
     "text": [
      "0.32729320982268173\n"
     ]
    }
   ],
   "source": [
    "print(dot_product)"
   ]
  },
  {
   "cell_type": "code",
   "execution_count": 6,
   "id": "b749e7db-d6bc-4c3b-93d2-a83feaaf6b6f",
   "metadata": {},
   "outputs": [
    {
     "name": "stdout",
     "output_type": "stream",
     "text": [
      "[[0.66697784]\n",
      " [0.06808158]\n",
      " [0.84624898]\n",
      " [0.09044473]\n",
      " [0.31165082]]\n"
     ]
    }
   ],
   "source": [
    "a = np.random.rand(5,1)\n",
    "print(a)"
   ]
  },
  {
   "cell_type": "code",
   "execution_count": 7,
   "id": "66cfbd00",
   "metadata": {},
   "outputs": [
    {
     "name": "stdout",
     "output_type": "stream",
     "text": [
      "[[0.66697784 0.06808158 0.84624898 0.09044473 0.31165082]]\n"
     ]
    }
   ],
   "source": [
    "print(a.T)"
   ]
  },
  {
   "cell_type": "code",
   "execution_count": 8,
   "id": "df367359",
   "metadata": {},
   "outputs": [
    {
     "name": "stdout",
     "output_type": "stream",
     "text": [
      "[[0.44485944 0.0454089  0.56442932 0.06032463 0.20786419]\n",
      " [0.0454089  0.0046351  0.05761397 0.00615762 0.02121768]\n",
      " [0.56442932 0.05761397 0.71613734 0.07653876 0.26373419]\n",
      " [0.06032463 0.00615762 0.07653876 0.00818025 0.02818717]\n",
      " [0.20786419 0.02121768 0.26373419 0.02818717 0.09712623]]\n"
     ]
    }
   ],
   "source": [
    "print(np.dot(a , a.T))"
   ]
  },
  {
   "cell_type": "code",
   "execution_count": 9,
   "id": "cc32bb80",
   "metadata": {},
   "outputs": [
    {
     "name": "stdout",
     "output_type": "stream",
     "text": [
      "NICE\n"
     ]
    }
   ],
   "source": [
    "print('NICE')"
   ]
  },
  {
   "cell_type": "code",
   "execution_count": 10,
   "id": "ceb0fdd5",
   "metadata": {},
   "outputs": [
    {
     "name": "stdout",
     "output_type": "stream",
     "text": [
      "(1, 5)\n"
     ]
    }
   ],
   "source": [
    "a = np.random.rand(1,5) \n",
    "print(a.shape)"
   ]
  },
  {
   "cell_type": "code",
   "execution_count": 11,
   "id": "dd942d03",
   "metadata": {},
   "outputs": [
    {
     "name": "stdout",
     "output_type": "stream",
     "text": [
      "[[1.43748845 1.75177038 1.62747457 0.45127346]\n",
      " [0.86036888 1.02720761 0.76918066 1.37781356]\n",
      " [0.94576555 0.98881598 1.07373791 0.90164003]]\n"
     ]
    }
   ],
   "source": [
    "a = np.random.rand(3,4) \n",
    "b = np.random.rand(1,4)\n",
    "c = a + b \n",
    "print(c)"
   ]
  },
  {
   "cell_type": "code",
   "execution_count": 16,
   "id": "cd47d821",
   "metadata": {},
   "outputs": [
    {
     "name": "stdout",
     "output_type": "stream",
     "text": [
      "[[0.03057665 0.13463289 0.08369846]\n",
      " [0.0466427  0.15975864 0.39425094]\n",
      " [0.04841245 0.47018137 0.41296748]\n",
      " [0.04770106 0.31734686 0.20973977]]\n"
     ]
    }
   ],
   "source": [
    "a = np.random.rand(4,3) \n",
    "b = np.random.rand(1,3)\n",
    "c = a * b \n",
    "print(c)"
   ]
  },
  {
   "cell_type": "code",
   "execution_count": 17,
   "id": "97f25995",
   "metadata": {},
   "outputs": [
    {
     "name": "stdout",
     "output_type": "stream",
     "text": [
      "[[ 5  5]\n",
      " [ 5 10]]\n"
     ]
    }
   ],
   "source": [
    "a = np.array([[2,1] , [1,3]])\n",
    "print(np.dot(a,a))"
   ]
  },
  {
   "cell_type": "code",
   "execution_count": null,
   "id": "76a08265",
   "metadata": {},
   "outputs": [],
   "source": []
  }
 ],
 "metadata": {
  "kernelspec": {
   "display_name": "Python 3.12.0 64-bit",
   "language": "python",
   "name": "python3"
  },
  "language_info": {
   "codemirror_mode": {
    "name": "ipython",
    "version": 3
   },
   "file_extension": ".py",
   "mimetype": "text/x-python",
   "name": "python",
   "nbconvert_exporter": "python",
   "pygments_lexer": "ipython3",
   "version": "3.12.0"
  },
  "vscode": {
   "interpreter": {
    "hash": "9240d949b7e875368571ba59acc67192d2efbcc4561b3c6f94c83d7858e18732"
   }
  }
 },
 "nbformat": 4,
 "nbformat_minor": 5
}
